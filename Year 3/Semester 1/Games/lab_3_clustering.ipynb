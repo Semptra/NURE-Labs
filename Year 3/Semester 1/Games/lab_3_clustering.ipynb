{
 "cells": [
  {
   "cell_type": "code",
   "execution_count": 21,
   "metadata": {},
   "outputs": [],
   "source": [
    "import pandas as pd\n",
    "import numpy as np\n",
    "import numpy as np\n",
    "import matplotlib.pyplot as plt\n",
    "import seaborn as sns; sns.set(style='white')\n",
    "%matplotlib inline"
   ]
  },
  {
   "cell_type": "markdown",
   "metadata": {},
   "source": [
    "# Load data"
   ]
  },
  {
   "cell_type": "code",
   "execution_count": 2,
   "metadata": {},
   "outputs": [],
   "source": [
    "import pyodbc \n",
    "conn = pyodbc.connect('Driver={SQL Server};'\n",
    "                      'Server=localhost\\SQLEXPRESS01;'\n",
    "                      'Database=GameDataDb;'\n",
    "                      'Trusted_Connection=yes;')"
   ]
  },
  {
   "cell_type": "code",
   "execution_count": 3,
   "metadata": {},
   "outputs": [
    {
     "data": {
      "text/html": [
       "<div>\n",
       "<style scoped>\n",
       "    .dataframe tbody tr th:only-of-type {\n",
       "        vertical-align: middle;\n",
       "    }\n",
       "\n",
       "    .dataframe tbody tr th {\n",
       "        vertical-align: top;\n",
       "    }\n",
       "\n",
       "    .dataframe thead th {\n",
       "        text-align: right;\n",
       "    }\n",
       "</style>\n",
       "<table border=\"1\" class=\"dataframe\">\n",
       "  <thead>\n",
       "    <tr style=\"text-align: right;\">\n",
       "      <th></th>\n",
       "      <th>Id</th>\n",
       "      <th>Date</th>\n",
       "      <th>UserId</th>\n",
       "      <th>Name</th>\n",
       "      <th>Price</th>\n",
       "      <th>Income</th>\n",
       "    </tr>\n",
       "  </thead>\n",
       "  <tbody>\n",
       "    <tr>\n",
       "      <th>0</th>\n",
       "      <td>EC7CF16E-5400-459B-9FDA-00000694E8BA</td>\n",
       "      <td>2018-01-24 00:00:00.0000000</td>\n",
       "      <td>B4EB3CD9-CB65-4812-8529-74D125D058FC</td>\n",
       "      <td>Gold</td>\n",
       "      <td>50.0</td>\n",
       "      <td>600</td>\n",
       "    </tr>\n",
       "    <tr>\n",
       "      <th>1</th>\n",
       "      <td>EBC87B37-65A9-4E04-B830-0000B39FAF82</td>\n",
       "      <td>2018-01-13 00:00:00.0000000</td>\n",
       "      <td>49196655-8542-4831-B454-ABF7168557BC</td>\n",
       "      <td>Bronze</td>\n",
       "      <td>10.0</td>\n",
       "      <td>110</td>\n",
       "    </tr>\n",
       "    <tr>\n",
       "      <th>2</th>\n",
       "      <td>DD96B2C5-2D54-4AA9-A66B-00010552A45B</td>\n",
       "      <td>2018-01-07 00:00:00.0000000</td>\n",
       "      <td>8A39CEBE-4CB4-43BC-A469-3B4BF413E434</td>\n",
       "      <td>Bronze</td>\n",
       "      <td>10.0</td>\n",
       "      <td>110</td>\n",
       "    </tr>\n",
       "    <tr>\n",
       "      <th>3</th>\n",
       "      <td>19AAD14B-F257-4DA8-A81C-00020C2FA57D</td>\n",
       "      <td>2018-01-23 00:00:00.0000000</td>\n",
       "      <td>26911F7B-BB20-40A5-9A04-298D0481C974</td>\n",
       "      <td>Iron</td>\n",
       "      <td>5.0</td>\n",
       "      <td>55</td>\n",
       "    </tr>\n",
       "    <tr>\n",
       "      <th>4</th>\n",
       "      <td>3BA6D69A-945E-4F04-824E-00025DB374D3</td>\n",
       "      <td>2018-01-05 00:00:00.0000000</td>\n",
       "      <td>D4FB00CF-C020-4320-B685-6FF4A6531E62</td>\n",
       "      <td>Gold</td>\n",
       "      <td>50.0</td>\n",
       "      <td>600</td>\n",
       "    </tr>\n",
       "  </tbody>\n",
       "</table>\n",
       "</div>"
      ],
      "text/plain": [
       "                                     Id                         Date  \\\n",
       "0  EC7CF16E-5400-459B-9FDA-00000694E8BA  2018-01-24 00:00:00.0000000   \n",
       "1  EBC87B37-65A9-4E04-B830-0000B39FAF82  2018-01-13 00:00:00.0000000   \n",
       "2  DD96B2C5-2D54-4AA9-A66B-00010552A45B  2018-01-07 00:00:00.0000000   \n",
       "3  19AAD14B-F257-4DA8-A81C-00020C2FA57D  2018-01-23 00:00:00.0000000   \n",
       "4  3BA6D69A-945E-4F04-824E-00025DB374D3  2018-01-05 00:00:00.0000000   \n",
       "\n",
       "                                 UserId    Name  Price  Income  \n",
       "0  B4EB3CD9-CB65-4812-8529-74D125D058FC    Gold   50.0     600  \n",
       "1  49196655-8542-4831-B454-ABF7168557BC  Bronze   10.0     110  \n",
       "2  8A39CEBE-4CB4-43BC-A469-3B4BF413E434  Bronze   10.0     110  \n",
       "3  26911F7B-BB20-40A5-9A04-298D0481C974    Iron    5.0      55  \n",
       "4  D4FB00CF-C020-4320-B685-6FF4A6531E62    Gold   50.0     600  "
      ]
     },
     "execution_count": 3,
     "metadata": {},
     "output_type": "execute_result"
    }
   ],
   "source": [
    "currency_buy = pd.read_sql_query(\"SELECT [Id] ,[Date] ,[UserId] ,[Name] ,[Price] ,[Income] FROM [GameDataDb].[dbo].[CurrencyBuy]\", conn)\n",
    "currency_buy.head()"
   ]
  },
  {
   "cell_type": "code",
   "execution_count": 4,
   "metadata": {},
   "outputs": [
    {
     "data": {
      "text/html": [
       "<div>\n",
       "<style scoped>\n",
       "    .dataframe tbody tr th:only-of-type {\n",
       "        vertical-align: middle;\n",
       "    }\n",
       "\n",
       "    .dataframe tbody tr th {\n",
       "        vertical-align: top;\n",
       "    }\n",
       "\n",
       "    .dataframe thead th {\n",
       "        text-align: right;\n",
       "    }\n",
       "</style>\n",
       "<table border=\"1\" class=\"dataframe\">\n",
       "  <thead>\n",
       "    <tr style=\"text-align: right;\">\n",
       "      <th></th>\n",
       "      <th>Id</th>\n",
       "      <th>Date</th>\n",
       "      <th>Country</th>\n",
       "      <th>Gender</th>\n",
       "      <th>Age</th>\n",
       "    </tr>\n",
       "  </thead>\n",
       "  <tbody>\n",
       "    <tr>\n",
       "      <th>0</th>\n",
       "      <td>3B48BC3C-ABD1-4B87-B0C0-00001928BAA5</td>\n",
       "      <td>2018-01-07 00:00:00.0000000</td>\n",
       "      <td>Brazil</td>\n",
       "      <td>male</td>\n",
       "      <td>17</td>\n",
       "    </tr>\n",
       "    <tr>\n",
       "      <th>1</th>\n",
       "      <td>8B7B7BB6-8827-4784-BB0D-00003A11FD67</td>\n",
       "      <td>2018-01-19 00:00:00.0000000</td>\n",
       "      <td>Japan</td>\n",
       "      <td>female</td>\n",
       "      <td>45</td>\n",
       "    </tr>\n",
       "    <tr>\n",
       "      <th>2</th>\n",
       "      <td>20569147-5579-471B-B63F-00003F02E78B</td>\n",
       "      <td>2018-01-24 00:00:00.0000000</td>\n",
       "      <td>Chile</td>\n",
       "      <td>female</td>\n",
       "      <td>57</td>\n",
       "    </tr>\n",
       "    <tr>\n",
       "      <th>3</th>\n",
       "      <td>533FC85D-E88F-4E8D-9D05-00004D827E4E</td>\n",
       "      <td>2018-01-03 00:00:00.0000000</td>\n",
       "      <td>Guinea</td>\n",
       "      <td>female</td>\n",
       "      <td>25</td>\n",
       "    </tr>\n",
       "    <tr>\n",
       "      <th>4</th>\n",
       "      <td>01766165-B9A3-4D7C-B546-00005831CED3</td>\n",
       "      <td>2018-01-02 00:00:00.0000000</td>\n",
       "      <td>United States of America</td>\n",
       "      <td>female</td>\n",
       "      <td>50</td>\n",
       "    </tr>\n",
       "  </tbody>\n",
       "</table>\n",
       "</div>"
      ],
      "text/plain": [
       "                                     Id                         Date  \\\n",
       "0  3B48BC3C-ABD1-4B87-B0C0-00001928BAA5  2018-01-07 00:00:00.0000000   \n",
       "1  8B7B7BB6-8827-4784-BB0D-00003A11FD67  2018-01-19 00:00:00.0000000   \n",
       "2  20569147-5579-471B-B63F-00003F02E78B  2018-01-24 00:00:00.0000000   \n",
       "3  533FC85D-E88F-4E8D-9D05-00004D827E4E  2018-01-03 00:00:00.0000000   \n",
       "4  01766165-B9A3-4D7C-B546-00005831CED3  2018-01-02 00:00:00.0000000   \n",
       "\n",
       "                    Country  Gender  Age  \n",
       "0                    Brazil    male   17  \n",
       "1                     Japan  female   45  \n",
       "2                     Chile  female   57  \n",
       "3                    Guinea  female   25  \n",
       "4  United States of America  female   50  "
      ]
     },
     "execution_count": 4,
     "metadata": {},
     "output_type": "execute_result"
    }
   ],
   "source": [
    "select_users_query = \"SELECT [Id] ,[Date] ,[Country] ,[Gender] ,[Age] FROM [GameDataDb].[dbo].[Users]\"\n",
    "users = pd.read_sql_query(select_users_query, conn)\n",
    "users.head()"
   ]
  },
  {
   "cell_type": "code",
   "execution_count": 5,
   "metadata": {},
   "outputs": [
    {
     "data": {
      "text/html": [
       "<div>\n",
       "<style scoped>\n",
       "    .dataframe tbody tr th:only-of-type {\n",
       "        vertical-align: middle;\n",
       "    }\n",
       "\n",
       "    .dataframe tbody tr th {\n",
       "        vertical-align: top;\n",
       "    }\n",
       "\n",
       "    .dataframe thead th {\n",
       "        text-align: right;\n",
       "    }\n",
       "</style>\n",
       "<table border=\"1\" class=\"dataframe\">\n",
       "  <thead>\n",
       "    <tr style=\"text-align: right;\">\n",
       "      <th></th>\n",
       "      <th>Id</th>\n",
       "      <th>Date</th>\n",
       "      <th>UserId</th>\n",
       "    </tr>\n",
       "  </thead>\n",
       "  <tbody>\n",
       "    <tr>\n",
       "      <th>0</th>\n",
       "      <td>320B2DA9-6C47-4760-B7C4-000004AFC20C</td>\n",
       "      <td>2018-01-14 00:00:00.0000000</td>\n",
       "      <td>2B83774C-D625-4501-8FFE-D73C34297372</td>\n",
       "    </tr>\n",
       "    <tr>\n",
       "      <th>1</th>\n",
       "      <td>1278B755-F970-4085-B817-000009049B08</td>\n",
       "      <td>2018-01-03 00:00:00.0000000</td>\n",
       "      <td>23C549A8-7219-4A11-AFCB-923C6556EA2A</td>\n",
       "    </tr>\n",
       "    <tr>\n",
       "      <th>2</th>\n",
       "      <td>5FA190E6-0302-4DB9-8ABC-00000B76FA9C</td>\n",
       "      <td>2018-01-19 00:00:00.0000000</td>\n",
       "      <td>25063020-8601-4AC5-BA49-EFDA56119625</td>\n",
       "    </tr>\n",
       "    <tr>\n",
       "      <th>3</th>\n",
       "      <td>19AA64BF-4CA9-4AB0-8373-00000C865F49</td>\n",
       "      <td>2018-01-23 00:00:00.0000000</td>\n",
       "      <td>F970C8FC-5E43-4DB8-B75A-6F1496851CD0</td>\n",
       "    </tr>\n",
       "    <tr>\n",
       "      <th>4</th>\n",
       "      <td>665F16C6-1B14-4126-867E-000014C6CA1B</td>\n",
       "      <td>2018-01-03 00:00:00.0000000</td>\n",
       "      <td>CBC0F527-415E-43DB-9ADA-F1DA954E2661</td>\n",
       "    </tr>\n",
       "  </tbody>\n",
       "</table>\n",
       "</div>"
      ],
      "text/plain": [
       "                                     Id                         Date  \\\n",
       "0  320B2DA9-6C47-4760-B7C4-000004AFC20C  2018-01-14 00:00:00.0000000   \n",
       "1  1278B755-F970-4085-B817-000009049B08  2018-01-03 00:00:00.0000000   \n",
       "2  5FA190E6-0302-4DB9-8ABC-00000B76FA9C  2018-01-19 00:00:00.0000000   \n",
       "3  19AA64BF-4CA9-4AB0-8373-00000C865F49  2018-01-23 00:00:00.0000000   \n",
       "4  665F16C6-1B14-4126-867E-000014C6CA1B  2018-01-03 00:00:00.0000000   \n",
       "\n",
       "                                 UserId  \n",
       "0  2B83774C-D625-4501-8FFE-D73C34297372  \n",
       "1  23C549A8-7219-4A11-AFCB-923C6556EA2A  \n",
       "2  25063020-8601-4AC5-BA49-EFDA56119625  \n",
       "3  F970C8FC-5E43-4DB8-B75A-6F1496851CD0  \n",
       "4  CBC0F527-415E-43DB-9ADA-F1DA954E2661  "
      ]
     },
     "execution_count": 5,
     "metadata": {},
     "output_type": "execute_result"
    }
   ],
   "source": [
    "select_game_start_query = \"SELECT [Id] ,[Date] ,[UserId] FROM [GameDataDb].[dbo].[GameStart]\"\n",
    "game_start = pd.read_sql_query(select_game_start_query, conn)\n",
    "game_start.head()"
   ]
  },
  {
   "cell_type": "code",
   "execution_count": 6,
   "metadata": {},
   "outputs": [
    {
     "data": {
      "text/html": [
       "<div>\n",
       "<style scoped>\n",
       "    .dataframe tbody tr th:only-of-type {\n",
       "        vertical-align: middle;\n",
       "    }\n",
       "\n",
       "    .dataframe tbody tr th {\n",
       "        vertical-align: top;\n",
       "    }\n",
       "\n",
       "    .dataframe thead th {\n",
       "        text-align: right;\n",
       "    }\n",
       "</style>\n",
       "<table border=\"1\" class=\"dataframe\">\n",
       "  <thead>\n",
       "    <tr style=\"text-align: right;\">\n",
       "      <th></th>\n",
       "      <th>Id</th>\n",
       "      <th>Date</th>\n",
       "      <th>UserId</th>\n",
       "      <th>Item</th>\n",
       "      <th>Price</th>\n",
       "    </tr>\n",
       "  </thead>\n",
       "  <tbody>\n",
       "    <tr>\n",
       "      <th>0</th>\n",
       "      <td>5DC4556F-FC68-459E-81B2-00001282DB50</td>\n",
       "      <td>2018-01-25 00:00:00.0000000</td>\n",
       "      <td>B6E225B9-9B70-4463-90C0-20BBEA7319DD</td>\n",
       "      <td>Sacrificial Altar</td>\n",
       "      <td>600.0</td>\n",
       "    </tr>\n",
       "    <tr>\n",
       "      <th>1</th>\n",
       "      <td>E6A3ADF3-D2A7-4D13-93D5-00001B9661B9</td>\n",
       "      <td>2018-01-23 00:00:00.0000000</td>\n",
       "      <td>8A5369AA-DD76-4D5D-A4C4-EF9E8746FAAF</td>\n",
       "      <td>Plan C</td>\n",
       "      <td>550.0</td>\n",
       "    </tr>\n",
       "    <tr>\n",
       "      <th>2</th>\n",
       "      <td>58CF16F5-10B1-4693-9A88-00001F4BB049</td>\n",
       "      <td>2018-01-18 00:00:00.0000000</td>\n",
       "      <td>49522DFF-9706-42A1-B07F-D024D5D47B84</td>\n",
       "      <td>Monstros Tooth</td>\n",
       "      <td>10.0</td>\n",
       "    </tr>\n",
       "    <tr>\n",
       "      <th>3</th>\n",
       "      <td>C1C849A1-9A50-48F2-8FD2-00002BFBB43A</td>\n",
       "      <td>2018-01-29 00:00:00.0000000</td>\n",
       "      <td>50A53746-3954-4A15-9E81-8CFD01C927E5</td>\n",
       "      <td>Remote Detonator</td>\n",
       "      <td>170.0</td>\n",
       "    </tr>\n",
       "    <tr>\n",
       "      <th>4</th>\n",
       "      <td>F886D293-E7CB-4F0C-A179-0000448BE558</td>\n",
       "      <td>2018-01-23 00:00:00.0000000</td>\n",
       "      <td>F3935C38-18A8-4938-B023-B887254E830C</td>\n",
       "      <td>The Nail</td>\n",
       "      <td>540.0</td>\n",
       "    </tr>\n",
       "  </tbody>\n",
       "</table>\n",
       "</div>"
      ],
      "text/plain": [
       "                                     Id                         Date  \\\n",
       "0  5DC4556F-FC68-459E-81B2-00001282DB50  2018-01-25 00:00:00.0000000   \n",
       "1  E6A3ADF3-D2A7-4D13-93D5-00001B9661B9  2018-01-23 00:00:00.0000000   \n",
       "2  58CF16F5-10B1-4693-9A88-00001F4BB049  2018-01-18 00:00:00.0000000   \n",
       "3  C1C849A1-9A50-48F2-8FD2-00002BFBB43A  2018-01-29 00:00:00.0000000   \n",
       "4  F886D293-E7CB-4F0C-A179-0000448BE558  2018-01-23 00:00:00.0000000   \n",
       "\n",
       "                                 UserId               Item  Price  \n",
       "0  B6E225B9-9B70-4463-90C0-20BBEA7319DD  Sacrificial Altar  600.0  \n",
       "1  8A5369AA-DD76-4D5D-A4C4-EF9E8746FAAF             Plan C  550.0  \n",
       "2  49522DFF-9706-42A1-B07F-D024D5D47B84     Monstros Tooth   10.0  \n",
       "3  50A53746-3954-4A15-9E81-8CFD01C927E5   Remote Detonator  170.0  \n",
       "4  F3935C38-18A8-4938-B023-B887254E830C           The Nail  540.0  "
      ]
     },
     "execution_count": 6,
     "metadata": {},
     "output_type": "execute_result"
    }
   ],
   "source": [
    "select_itembuy_query = \"SELECT[Id] ,[Date] ,[UserId] ,[Item] ,[Price] FROM [GameDataDb].[dbo].[ItemBuy]\"\n",
    "item_buy = pd.read_sql_query(select_itembuy_query, conn)\n",
    "item_buy.head()"
   ]
  },
  {
   "cell_type": "markdown",
   "metadata": {},
   "source": [
    "select_stageend_query = \"SELECT [Id] ,[Date] ,[UserId] ,[Stage] ,[Time] ,[Win] ,[Income] FROM [GameDataDb].[dbo].[StageEnd]\"\n",
    "stage_end = pd.read_sql_query(select_stageend_query, conn)\n",
    "stage_end.head()"
   ]
  },
  {
   "cell_type": "markdown",
   "metadata": {},
   "source": [
    "select_stagestart_query = \"SELECT [Id] ,[Date] ,[UserId] ,[Stage] FROM [GameDataDb].[dbo].[StageStart]\"\n",
    "stage_start = pd.read_sql_query(select_stagestart_query, conn)\n",
    "stage_start.head()"
   ]
  },
  {
   "cell_type": "markdown",
   "metadata": {},
   "source": [
    "# KMeans clustering"
   ]
  },
  {
   "cell_type": "code",
   "execution_count": 10,
   "metadata": {},
   "outputs": [],
   "source": [
    "from sklearn.preprocessing import LabelEncoder\n",
    "genders = LabelEncoder().fit_transform(users[\"Gender\"])"
   ]
  },
  {
   "cell_type": "code",
   "execution_count": null,
   "metadata": {},
   "outputs": [],
   "source": []
  },
  {
   "cell_type": "code",
   "execution_count": 96,
   "metadata": {},
   "outputs": [],
   "source": [
    "from sklearn.cluster import KMeans\n",
    "def doKmeans(X, nclust=2):\n",
    "    vecotrizedX = list(map(lambda x: [x], X))\n",
    "    model = KMeans(nclust)\n",
    "    model.fit(vecotrizedX)\n",
    "    clust_labels = model.predict(vecotrizedX)\n",
    "    cent = model.cluster_centers_\n",
    "    \n",
    "    plt.scatter(vecotrizedX, np.zeros(len(vecotrizedX)), c=clust_labels)\n",
    "    \n",
    "    return (clust_labels, cent)"
   ]
  },
  {
   "cell_type": "code",
   "execution_count": 57,
   "metadata": {},
   "outputs": [
    {
     "ename": "IndexError",
     "evalue": "index 1 is out of bounds for axis 1 with size 1",
     "output_type": "error",
     "traceback": [
      "\u001b[1;31m---------------------------------------------------------------------------\u001b[0m",
      "\u001b[1;31mIndexError\u001b[0m                                Traceback (most recent call last)",
      "\u001b[1;32m<ipython-input-57-52a1de6b99ae>\u001b[0m in \u001b[0;36m<module>\u001b[1;34m\u001b[0m\n\u001b[1;32m----> 1\u001b[1;33m \u001b[0mgender_clust_labels\u001b[0m\u001b[1;33m,\u001b[0m \u001b[0mgender_cent\u001b[0m \u001b[1;33m=\u001b[0m \u001b[0mdoKmeans\u001b[0m\u001b[1;33m(\u001b[0m\u001b[0mgenders\u001b[0m\u001b[1;33m,\u001b[0m \u001b[1;36m2\u001b[0m\u001b[1;33m)\u001b[0m\u001b[1;33m\u001b[0m\u001b[1;33m\u001b[0m\u001b[0m\n\u001b[0m",
      "\u001b[1;32m<ipython-input-56-f4155c75036c>\u001b[0m in \u001b[0;36mdoKmeans\u001b[1;34m(X, nclust)\u001b[0m\n\u001b[0;32m      8\u001b[0m \u001b[1;33m\u001b[0m\u001b[0m\n\u001b[0;32m      9\u001b[0m     \u001b[0mplt\u001b[0m\u001b[1;33m.\u001b[0m\u001b[0mscatter\u001b[0m\u001b[1;33m(\u001b[0m\u001b[0mvecotrizedX\u001b[0m\u001b[1;33m,\u001b[0m \u001b[0mnp\u001b[0m\u001b[1;33m.\u001b[0m\u001b[0mzeros\u001b[0m\u001b[1;33m(\u001b[0m\u001b[0mlen\u001b[0m\u001b[1;33m(\u001b[0m\u001b[0mvecotrizedX\u001b[0m\u001b[1;33m)\u001b[0m\u001b[1;33m)\u001b[0m\u001b[1;33m,\u001b[0m \u001b[0mc\u001b[0m\u001b[1;33m=\u001b[0m\u001b[0mage_clust_labels\u001b[0m\u001b[1;33m)\u001b[0m\u001b[1;33m\u001b[0m\u001b[1;33m\u001b[0m\u001b[0m\n\u001b[1;32m---> 10\u001b[1;33m     \u001b[0mplt\u001b[0m\u001b[1;33m.\u001b[0m\u001b[0mscatter\u001b[0m\u001b[1;33m(\u001b[0m\u001b[0mcent\u001b[0m\u001b[1;33m[\u001b[0m\u001b[1;33m:\u001b[0m\u001b[1;33m,\u001b[0m \u001b[1;36m0\u001b[0m\u001b[1;33m]\u001b[0m\u001b[1;33m,\u001b[0m \u001b[0mcent\u001b[0m\u001b[1;33m[\u001b[0m\u001b[1;33m:\u001b[0m\u001b[1;33m,\u001b[0m \u001b[1;36m1\u001b[0m\u001b[1;33m]\u001b[0m\u001b[1;33m,\u001b[0m \u001b[0mc\u001b[0m\u001b[1;33m=\u001b[0m\u001b[1;34m'black'\u001b[0m\u001b[1;33m,\u001b[0m \u001b[0ms\u001b[0m\u001b[1;33m=\u001b[0m\u001b[1;36m200\u001b[0m\u001b[1;33m,\u001b[0m \u001b[0malpha\u001b[0m\u001b[1;33m=\u001b[0m\u001b[1;36m0.5\u001b[0m\u001b[1;33m)\u001b[0m\u001b[1;33m;\u001b[0m\u001b[1;33m\u001b[0m\u001b[1;33m\u001b[0m\u001b[0m\n\u001b[0m\u001b[0;32m     11\u001b[0m \u001b[1;33m\u001b[0m\u001b[0m\n\u001b[0;32m     12\u001b[0m     \u001b[1;32mreturn\u001b[0m \u001b[1;33m(\u001b[0m\u001b[0mclust_labels\u001b[0m\u001b[1;33m,\u001b[0m \u001b[0mcent\u001b[0m\u001b[1;33m)\u001b[0m\u001b[1;33m\u001b[0m\u001b[1;33m\u001b[0m\u001b[0m\n",
      "\u001b[1;31mIndexError\u001b[0m: index 1 is out of bounds for axis 1 with size 1"
     ]
    },
    {
     "data": {
      "image/png": "[encoded data removed]",
      "text/plain": [
       "<Figure size 432x288 with 1 Axes>"
      ]
     },
     "metadata": {
      "needs_background": "light"
     },
     "output_type": "display_data"
    }
   ],
   "source": [
    "gender_clust_labels, gender_cent = doKmeans(genders, 2)\n"
   ]
  },
  {
   "cell_type": "code",
   "execution_count": 24,
   "metadata": {},
   "outputs": [
    {
     "data": {
      "text/plain": [
       "<matplotlib.collections.PathCollection at 0x2232406f8d0>"
      ]
     },
     "execution_count": 24,
     "metadata": {},
     "output_type": "execute_result"
    },
    {
     "data": {
      "image/png": "[encoded data removed]",
      "text/plain": [
       "<Figure size 432x288 with 1 Axes>"
      ]
     },
     "metadata": {
      "needs_background": "light"
     },
     "output_type": "display_data"
    }
   ],
   "source": [
    "plt.scatter(genders, np.zeros(len(genders)), c=gender_clust_labels)"
   ]
  },
  {
   "cell_type": "code",
   "execution_count": 29,
   "metadata": {},
   "outputs": [
    {
     "data": {
      "text/plain": [
       "<matplotlib.collections.PathCollection at 0x222cd0059b0>"
      ]
     },
     "execution_count": 29,
     "metadata": {},
     "output_type": "execute_result"
    },
    {
     "data": {
      "image/png": "[encoded data removed]",
      "text/plain": [
       "<Figure size 432x288 with 1 Axes>"
      ]
     },
     "metadata": {
      "needs_background": "light"
     },
     "output_type": "display_data"
    }
   ],
   "source": [
    "plt.scatter(users.Age, np.zeros(len(users.Age)))"
   ]
  },
  {
   "cell_type": "code",
   "execution_count": 44,
   "metadata": {},
   "outputs": [],
   "source": [
    "age_counts = users.Age.value_counts().sort_index()"
   ]
  },
  {
   "cell_type": "code",
   "execution_count": 46,
   "metadata": {},
   "outputs": [
    {
     "data": {
      "text/plain": [
       "<matplotlib.axes._subplots.AxesSubplot at 0x2229c4884e0>"
      ]
     },
     "execution_count": 46,
     "metadata": {},
     "output_type": "execute_result"
    },
    {
     "data": {
      "image/png": "[encoded data removed]",
      "text/plain": [
       "<Figure size 432x288 with 1 Axes>"
      ]
     },
     "metadata": {
      "needs_background": "light"
     },
     "output_type": "display_data"
    }
   ],
   "source": [
    "age_counts.plot()"
   ]
  },
  {
   "cell_type": "code",
   "execution_count": 59,
   "metadata": {},
   "outputs": [
    {
     "data": {
      "image/png": "[encoded data removed]",
      "text/plain": [
       "<Figure size 432x288 with 1 Axes>"
      ]
     },
     "metadata": {
      "needs_background": "light"
     },
     "output_type": "display_data"
    }
   ],
   "source": [
    "age_clust_labels, age_cent = doKmeans(users.Age, 8)"
   ]
  },
  {
   "cell_type": "code",
   "execution_count": 60,
   "metadata": {},
   "outputs": [],
   "source": [
    "countries = LabelEncoder().fit_transform(users[\"Country\"])"
   ]
  },
  {
   "cell_type": "code",
   "execution_count": 61,
   "metadata": {},
   "outputs": [
    {
     "data": {
      "image/png": "[encoded data removed]",
      "text/plain": [
       "<Figure size 432x288 with 1 Axes>"
      ]
     },
     "metadata": {
      "needs_background": "light"
     },
     "output_type": "display_data"
    }
   ],
   "source": [
    "countries_clust_labels, countries_cent = doKmeans(countries, 8)"
   ]
  },
  {
   "cell_type": "code",
   "execution_count": 63,
   "metadata": {},
   "outputs": [
    {
     "data": {
      "text/plain": [
       "'2018-01-30 00:00:00.0000000'"
      ]
     },
     "execution_count": 63,
     "metadata": {},
     "output_type": "execute_result"
    }
   ],
   "source": [
    "last_day = currency_buy.Date.max()\n",
    "last_day"
   ]
  },
  {
   "cell_type": "code",
   "execution_count": 85,
   "metadata": {},
   "outputs": [
    {
     "data": {
      "text/plain": [
       "Id\n",
       "00033953-483F-427B-9BC5-C4CEB94C9BAA    275\n",
       "00119276-7BC1-45FC-B64E-82A0B9993289    600\n",
       "0016FDAE-572D-4D76-9D90-98823650CFAC    110\n",
       "002051A2-A6EA-49D8-999F-83C1EF03DE27     10\n",
       "002EF9A3-6DEC-487A-B852-8A1133343AD0    110\n",
       "Name: Income, dtype: int64"
      ]
     },
     "execution_count": 85,
     "metadata": {},
     "output_type": "execute_result"
    }
   ],
   "source": [
    "last_day_buys = currency_buy[currency_buy.Date == last_day].groupby(['UserId'])['Income'].sum()\n",
    "last_day_buys.index.name = 'Id'\n",
    "last_day_buys.head()"
   ]
  },
  {
   "cell_type": "code",
   "execution_count": 88,
   "metadata": {},
   "outputs": [],
   "source": [
    "users = users.merge(last_day_buys, on='Id')"
   ]
  },
  {
   "cell_type": "code",
   "execution_count": null,
   "metadata": {},
   "outputs": [
    {
     "data": {
      "text/plain": [
       "(array([1, 1, 1, ..., 1, 3, 1]), array([[275.        ],\n",
       "        [ 32.80085349],\n",
       "        [600.        ],\n",
       "        [110.        ]]))"
      ]
     },
     "execution_count": 98,
     "metadata": {},
     "output_type": "execute_result"
    }
   ],
   "source": [
    "doKmeans(users.Income, 4)"
   ]
  },
  {
   "cell_type": "code",
   "execution_count": null,
   "metadata": {},
   "outputs": [],
   "source": []
  },
  {
   "cell_type": "code",
   "execution_count": null,
   "metadata": {},
   "outputs": [],
   "source": []
  },
  {
   "cell_type": "code",
   "execution_count": null,
   "metadata": {},
   "outputs": [],
   "source": []
  }
 ],
 "metadata": {
  "kernelspec": {
   "display_name": "Python 3",
   "language": "python",
   "name": "python3"
  },
  "language_info": {
   "codemirror_mode": {
    "name": "ipython",
    "version": 3
   },
   "file_extension": ".py",
   "mimetype": "text/x-python",
   "name": "python",
   "nbconvert_exporter": "python",
   "pygments_lexer": "ipython3",
   "version": "3.7.3"
  }
 },
 "nbformat": 4,
 "nbformat_minor": 2
}
