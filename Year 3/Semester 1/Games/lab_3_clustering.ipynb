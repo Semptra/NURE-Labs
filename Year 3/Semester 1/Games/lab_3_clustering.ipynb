{
 "cells": [
  {
   "cell_type": "code",
   "execution_count": 1,
   "metadata": {},
   "outputs": [],
   "source": [
    "import pandas as pd\n",
    "import numpy as np\n",
    "import numpy as np\n",
    "import matplotlib.pyplot as plt\n",
    "import seaborn as sns; sns.set(style='white')\n",
    "%matplotlib inline"
   ]
  },
  {
   "cell_type": "markdown",
   "metadata": {},
   "source": [
    "# Load data"
   ]
  },
  {
   "cell_type": "code",
   "execution_count": 2,
   "metadata": {},
   "outputs": [],
   "source": [
    "import pyodbc \n",
    "conn = pyodbc.connect('Driver={SQL Server};'\n",
    "                      'Server=localhost\\SQLEXPRESS01;'\n",
    "                      'Database=GameDataDb;'\n",
    "                      'Trusted_Connection=yes;')"
   ]
  },
  {
   "cell_type": "code",
   "execution_count": 27,
   "metadata": {},
   "outputs": [
    {
     "data": {
      "text/html": [
       "<div>\n",
       "<style scoped>\n",
       "    .dataframe tbody tr th:only-of-type {\n",
       "        vertical-align: middle;\n",
       "    }\n",
       "\n",
       "    .dataframe tbody tr th {\n",
       "        vertical-align: top;\n",
       "    }\n",
       "\n",
       "    .dataframe thead th {\n",
       "        text-align: right;\n",
       "    }\n",
       "</style>\n",
       "<table border=\"1\" class=\"dataframe\">\n",
       "  <thead>\n",
       "    <tr style=\"text-align: right;\">\n",
       "      <th></th>\n",
       "      <th>UserId</th>\n",
       "      <th>TotalUSDIncome</th>\n",
       "    </tr>\n",
       "  </thead>\n",
       "  <tbody>\n",
       "    <tr>\n",
       "      <th>0</th>\n",
       "      <td>F4CDF7AE-77A7-4EC3-8931-0028DC02A6EA</td>\n",
       "      <td>50.0</td>\n",
       "    </tr>\n",
       "    <tr>\n",
       "      <th>1</th>\n",
       "      <td>49E42CEF-2EEC-4A8C-884A-0080922EB9A6</td>\n",
       "      <td>50.0</td>\n",
       "    </tr>\n",
       "    <tr>\n",
       "      <th>2</th>\n",
       "      <td>4BB11208-A7A1-49BA-B812-00A5CDCF5A95</td>\n",
       "      <td>50.0</td>\n",
       "    </tr>\n",
       "    <tr>\n",
       "      <th>3</th>\n",
       "      <td>AB92100A-E91B-4360-984B-00C88D55736F</td>\n",
       "      <td>50.0</td>\n",
       "    </tr>\n",
       "    <tr>\n",
       "      <th>4</th>\n",
       "      <td>BB9DBE81-4417-4E47-9CE5-00566CFDE8E2</td>\n",
       "      <td>50.0</td>\n",
       "    </tr>\n",
       "    <tr>\n",
       "      <th>5</th>\n",
       "      <td>EC3B8A03-9CF7-42D8-A914-013277AC7B25</td>\n",
       "      <td>50.0</td>\n",
       "    </tr>\n",
       "    <tr>\n",
       "      <th>6</th>\n",
       "      <td>6EC2300D-903E-46B1-9B9D-01373B8D033B</td>\n",
       "      <td>50.0</td>\n",
       "    </tr>\n",
       "    <tr>\n",
       "      <th>7</th>\n",
       "      <td>F2B44F4B-5D2A-4532-BCB5-01818B7934B3</td>\n",
       "      <td>50.0</td>\n",
       "    </tr>\n",
       "    <tr>\n",
       "      <th>8</th>\n",
       "      <td>FEBB6061-F6D8-43EE-B3C2-0163CF064F0B</td>\n",
       "      <td>50.0</td>\n",
       "    </tr>\n",
       "    <tr>\n",
       "      <th>9</th>\n",
       "      <td>B82AA75D-C655-490D-BED4-01895CCFBEC0</td>\n",
       "      <td>50.0</td>\n",
       "    </tr>\n",
       "    <tr>\n",
       "      <th>10</th>\n",
       "      <td>2F4A6AA8-F039-42A1-8EA4-01FE25833BDE</td>\n",
       "      <td>50.0</td>\n",
       "    </tr>\n",
       "    <tr>\n",
       "      <th>11</th>\n",
       "      <td>E9CF09C2-80BB-490F-AC0C-0218D10039C0</td>\n",
       "      <td>50.0</td>\n",
       "    </tr>\n",
       "    <tr>\n",
       "      <th>12</th>\n",
       "      <td>02AA9DCD-2F54-4083-B95A-02524621B30C</td>\n",
       "      <td>50.0</td>\n",
       "    </tr>\n",
       "    <tr>\n",
       "      <th>13</th>\n",
       "      <td>C09320BE-06AF-4CBA-A6FB-023F6B7BAC40</td>\n",
       "      <td>50.0</td>\n",
       "    </tr>\n",
       "    <tr>\n",
       "      <th>14</th>\n",
       "      <td>46452C79-F040-49A3-B7EF-02AD882F41C9</td>\n",
       "      <td>50.0</td>\n",
       "    </tr>\n",
       "    <tr>\n",
       "      <th>15</th>\n",
       "      <td>38EAFE55-7A72-4189-AA32-02C50994D533</td>\n",
       "      <td>50.0</td>\n",
       "    </tr>\n",
       "    <tr>\n",
       "      <th>16</th>\n",
       "      <td>87E053E3-51B0-4A29-8FBB-02C726F826F4</td>\n",
       "      <td>50.0</td>\n",
       "    </tr>\n",
       "    <tr>\n",
       "      <th>17</th>\n",
       "      <td>E8006F06-4375-414F-A7BA-02FECADA8A08</td>\n",
       "      <td>50.0</td>\n",
       "    </tr>\n",
       "    <tr>\n",
       "      <th>18</th>\n",
       "      <td>91476F1B-6D9E-4F54-8748-030759193B29</td>\n",
       "      <td>50.0</td>\n",
       "    </tr>\n",
       "    <tr>\n",
       "      <th>19</th>\n",
       "      <td>8C3825C5-F36C-41B2-BE31-031C39223104</td>\n",
       "      <td>50.0</td>\n",
       "    </tr>\n",
       "    <tr>\n",
       "      <th>20</th>\n",
       "      <td>6F0D587D-09BE-451D-B8AD-03227ABEBEC8</td>\n",
       "      <td>50.0</td>\n",
       "    </tr>\n",
       "    <tr>\n",
       "      <th>21</th>\n",
       "      <td>3DA2FECE-000A-4642-831F-0348AAB7FE8E</td>\n",
       "      <td>50.0</td>\n",
       "    </tr>\n",
       "    <tr>\n",
       "      <th>22</th>\n",
       "      <td>A734812A-878F-4FED-8C2C-0384C07A0430</td>\n",
       "      <td>50.0</td>\n",
       "    </tr>\n",
       "    <tr>\n",
       "      <th>23</th>\n",
       "      <td>EA71A761-23B9-4A34-B130-03A0AFD0D465</td>\n",
       "      <td>50.0</td>\n",
       "    </tr>\n",
       "    <tr>\n",
       "      <th>24</th>\n",
       "      <td>8912B18C-FBD5-4E55-8B95-03ADBFBB9845</td>\n",
       "      <td>50.0</td>\n",
       "    </tr>\n",
       "    <tr>\n",
       "      <th>25</th>\n",
       "      <td>A63E5FB6-19A1-4B20-94CF-03C42E235BCC</td>\n",
       "      <td>50.0</td>\n",
       "    </tr>\n",
       "    <tr>\n",
       "      <th>26</th>\n",
       "      <td>C1565EFC-C97C-4EA5-BDDD-044780E8A058</td>\n",
       "      <td>50.0</td>\n",
       "    </tr>\n",
       "    <tr>\n",
       "      <th>27</th>\n",
       "      <td>E069AF2E-3938-4CFA-B49B-03A19CBFD338</td>\n",
       "      <td>50.0</td>\n",
       "    </tr>\n",
       "    <tr>\n",
       "      <th>28</th>\n",
       "      <td>EE69442F-4121-47ED-AD72-04C6CA8B713B</td>\n",
       "      <td>50.0</td>\n",
       "    </tr>\n",
       "    <tr>\n",
       "      <th>29</th>\n",
       "      <td>C11521C5-99BD-4FB5-9A44-048FCE5DE238</td>\n",
       "      <td>50.0</td>\n",
       "    </tr>\n",
       "    <tr>\n",
       "      <th>...</th>\n",
       "      <td>...</td>\n",
       "      <td>...</td>\n",
       "    </tr>\n",
       "    <tr>\n",
       "      <th>651054</th>\n",
       "      <td>538C1A9C-0929-4E3D-AB26-EF5D0191EA4A</td>\n",
       "      <td>NaN</td>\n",
       "    </tr>\n",
       "    <tr>\n",
       "      <th>651055</th>\n",
       "      <td>9A2C13CF-D63E-4C9D-B1D3-EF5D2A31D6A5</td>\n",
       "      <td>NaN</td>\n",
       "    </tr>\n",
       "    <tr>\n",
       "      <th>651056</th>\n",
       "      <td>7B3A8554-0D84-4BEA-A33B-EF5D308B835E</td>\n",
       "      <td>NaN</td>\n",
       "    </tr>\n",
       "    <tr>\n",
       "      <th>651057</th>\n",
       "      <td>1757B6D1-5765-4D81-ABBF-EF5D3347ED3D</td>\n",
       "      <td>NaN</td>\n",
       "    </tr>\n",
       "    <tr>\n",
       "      <th>651058</th>\n",
       "      <td>DD623C66-595F-433E-9154-EF5D36E1D282</td>\n",
       "      <td>NaN</td>\n",
       "    </tr>\n",
       "    <tr>\n",
       "      <th>651059</th>\n",
       "      <td>3F2646C3-AB80-41A7-A60F-EF5D4350B937</td>\n",
       "      <td>NaN</td>\n",
       "    </tr>\n",
       "    <tr>\n",
       "      <th>651060</th>\n",
       "      <td>CC54F15B-626F-4FB5-B15B-EF5D760BF0CA</td>\n",
       "      <td>NaN</td>\n",
       "    </tr>\n",
       "    <tr>\n",
       "      <th>651061</th>\n",
       "      <td>C0C5E1BC-DA2E-4E1E-987A-EF5D7B4ECB4A</td>\n",
       "      <td>NaN</td>\n",
       "    </tr>\n",
       "    <tr>\n",
       "      <th>651062</th>\n",
       "      <td>D4A0AD0D-6664-4602-89BD-EF5D82023174</td>\n",
       "      <td>NaN</td>\n",
       "    </tr>\n",
       "    <tr>\n",
       "      <th>651063</th>\n",
       "      <td>1C918372-CEF9-4895-B59F-EF5DB722A12C</td>\n",
       "      <td>NaN</td>\n",
       "    </tr>\n",
       "    <tr>\n",
       "      <th>651064</th>\n",
       "      <td>929D8492-61C8-44F7-BE94-EF5DBF2A6C23</td>\n",
       "      <td>NaN</td>\n",
       "    </tr>\n",
       "    <tr>\n",
       "      <th>651065</th>\n",
       "      <td>97BEC09F-94F9-4C5D-BB7A-EF5E09B07DAB</td>\n",
       "      <td>NaN</td>\n",
       "    </tr>\n",
       "    <tr>\n",
       "      <th>651066</th>\n",
       "      <td>8E7F123E-A8B3-497E-A68E-EF5E2D46BF4C</td>\n",
       "      <td>NaN</td>\n",
       "    </tr>\n",
       "    <tr>\n",
       "      <th>651067</th>\n",
       "      <td>B186D9B5-5B1D-42D1-BD7C-EF5E6102600B</td>\n",
       "      <td>NaN</td>\n",
       "    </tr>\n",
       "    <tr>\n",
       "      <th>651068</th>\n",
       "      <td>AD03525E-056C-4E36-81BC-EF5E850CCC83</td>\n",
       "      <td>NaN</td>\n",
       "    </tr>\n",
       "    <tr>\n",
       "      <th>651069</th>\n",
       "      <td>9C2E1361-7F42-451A-8918-EF5ED3A2DC6E</td>\n",
       "      <td>NaN</td>\n",
       "    </tr>\n",
       "    <tr>\n",
       "      <th>651070</th>\n",
       "      <td>A36DED0C-53B3-4BE6-A51E-EF5EEBAA1D66</td>\n",
       "      <td>NaN</td>\n",
       "    </tr>\n",
       "    <tr>\n",
       "      <th>651071</th>\n",
       "      <td>88405390-77E2-4A38-A869-EF5F04D38AA2</td>\n",
       "      <td>NaN</td>\n",
       "    </tr>\n",
       "    <tr>\n",
       "      <th>651072</th>\n",
       "      <td>DE984104-E4DB-421D-82DA-EF5F12BC3338</td>\n",
       "      <td>NaN</td>\n",
       "    </tr>\n",
       "    <tr>\n",
       "      <th>651073</th>\n",
       "      <td>DDC11F8E-D4BF-4247-B895-EF5F5EACE3DD</td>\n",
       "      <td>NaN</td>\n",
       "    </tr>\n",
       "    <tr>\n",
       "      <th>651074</th>\n",
       "      <td>D3641334-7B43-44A5-A34B-EF5F64D7779E</td>\n",
       "      <td>NaN</td>\n",
       "    </tr>\n",
       "    <tr>\n",
       "      <th>651075</th>\n",
       "      <td>5E04EB9A-7E41-42E5-AB6D-EF5F696F1BBD</td>\n",
       "      <td>NaN</td>\n",
       "    </tr>\n",
       "    <tr>\n",
       "      <th>651076</th>\n",
       "      <td>7EAD70CD-CADD-45D8-B24D-EF5F764E7A50</td>\n",
       "      <td>NaN</td>\n",
       "    </tr>\n",
       "    <tr>\n",
       "      <th>651077</th>\n",
       "      <td>DB7641EE-7622-4D08-A74F-EF5F7F95A332</td>\n",
       "      <td>NaN</td>\n",
       "    </tr>\n",
       "    <tr>\n",
       "      <th>651078</th>\n",
       "      <td>E9F515A2-4522-4246-9478-EF5F88BB4D70</td>\n",
       "      <td>NaN</td>\n",
       "    </tr>\n",
       "    <tr>\n",
       "      <th>651079</th>\n",
       "      <td>07CF81B7-50A7-40E4-9DC4-EF5F8F96015A</td>\n",
       "      <td>NaN</td>\n",
       "    </tr>\n",
       "    <tr>\n",
       "      <th>651080</th>\n",
       "      <td>282C401E-FA46-41E2-9E48-EF5FA3D9592B</td>\n",
       "      <td>NaN</td>\n",
       "    </tr>\n",
       "    <tr>\n",
       "      <th>651081</th>\n",
       "      <td>AF47D3FC-0A98-49A3-97DC-EF5FB9A349C7</td>\n",
       "      <td>NaN</td>\n",
       "    </tr>\n",
       "    <tr>\n",
       "      <th>651082</th>\n",
       "      <td>3981DAD5-8F88-4F7A-8351-EF5FBA9CE0C8</td>\n",
       "      <td>NaN</td>\n",
       "    </tr>\n",
       "    <tr>\n",
       "      <th>651083</th>\n",
       "      <td>0CA654CB-05B8-484D-9F85-EF5FCA059B07</td>\n",
       "      <td>NaN</td>\n",
       "    </tr>\n",
       "  </tbody>\n",
       "</table>\n",
       "<p>651084 rows × 2 columns</p>\n",
       "</div>"
      ],
      "text/plain": [
       "                                      UserId  TotalUSDIncome\n",
       "0       F4CDF7AE-77A7-4EC3-8931-0028DC02A6EA            50.0\n",
       "1       49E42CEF-2EEC-4A8C-884A-0080922EB9A6            50.0\n",
       "2       4BB11208-A7A1-49BA-B812-00A5CDCF5A95            50.0\n",
       "3       AB92100A-E91B-4360-984B-00C88D55736F            50.0\n",
       "4       BB9DBE81-4417-4E47-9CE5-00566CFDE8E2            50.0\n",
       "5       EC3B8A03-9CF7-42D8-A914-013277AC7B25            50.0\n",
       "6       6EC2300D-903E-46B1-9B9D-01373B8D033B            50.0\n",
       "7       F2B44F4B-5D2A-4532-BCB5-01818B7934B3            50.0\n",
       "8       FEBB6061-F6D8-43EE-B3C2-0163CF064F0B            50.0\n",
       "9       B82AA75D-C655-490D-BED4-01895CCFBEC0            50.0\n",
       "10      2F4A6AA8-F039-42A1-8EA4-01FE25833BDE            50.0\n",
       "11      E9CF09C2-80BB-490F-AC0C-0218D10039C0            50.0\n",
       "12      02AA9DCD-2F54-4083-B95A-02524621B30C            50.0\n",
       "13      C09320BE-06AF-4CBA-A6FB-023F6B7BAC40            50.0\n",
       "14      46452C79-F040-49A3-B7EF-02AD882F41C9            50.0\n",
       "15      38EAFE55-7A72-4189-AA32-02C50994D533            50.0\n",
       "16      87E053E3-51B0-4A29-8FBB-02C726F826F4            50.0\n",
       "17      E8006F06-4375-414F-A7BA-02FECADA8A08            50.0\n",
       "18      91476F1B-6D9E-4F54-8748-030759193B29            50.0\n",
       "19      8C3825C5-F36C-41B2-BE31-031C39223104            50.0\n",
       "20      6F0D587D-09BE-451D-B8AD-03227ABEBEC8            50.0\n",
       "21      3DA2FECE-000A-4642-831F-0348AAB7FE8E            50.0\n",
       "22      A734812A-878F-4FED-8C2C-0384C07A0430            50.0\n",
       "23      EA71A761-23B9-4A34-B130-03A0AFD0D465            50.0\n",
       "24      8912B18C-FBD5-4E55-8B95-03ADBFBB9845            50.0\n",
       "25      A63E5FB6-19A1-4B20-94CF-03C42E235BCC            50.0\n",
       "26      C1565EFC-C97C-4EA5-BDDD-044780E8A058            50.0\n",
       "27      E069AF2E-3938-4CFA-B49B-03A19CBFD338            50.0\n",
       "28      EE69442F-4121-47ED-AD72-04C6CA8B713B            50.0\n",
       "29      C11521C5-99BD-4FB5-9A44-048FCE5DE238            50.0\n",
       "...                                      ...             ...\n",
       "651054  538C1A9C-0929-4E3D-AB26-EF5D0191EA4A             NaN\n",
       "651055  9A2C13CF-D63E-4C9D-B1D3-EF5D2A31D6A5             NaN\n",
       "651056  7B3A8554-0D84-4BEA-A33B-EF5D308B835E             NaN\n",
       "651057  1757B6D1-5765-4D81-ABBF-EF5D3347ED3D             NaN\n",
       "651058  DD623C66-595F-433E-9154-EF5D36E1D282             NaN\n",
       "651059  3F2646C3-AB80-41A7-A60F-EF5D4350B937             NaN\n",
       "651060  CC54F15B-626F-4FB5-B15B-EF5D760BF0CA             NaN\n",
       "651061  C0C5E1BC-DA2E-4E1E-987A-EF5D7B4ECB4A             NaN\n",
       "651062  D4A0AD0D-6664-4602-89BD-EF5D82023174             NaN\n",
       "651063  1C918372-CEF9-4895-B59F-EF5DB722A12C             NaN\n",
       "651064  929D8492-61C8-44F7-BE94-EF5DBF2A6C23             NaN\n",
       "651065  97BEC09F-94F9-4C5D-BB7A-EF5E09B07DAB             NaN\n",
       "651066  8E7F123E-A8B3-497E-A68E-EF5E2D46BF4C             NaN\n",
       "651067  B186D9B5-5B1D-42D1-BD7C-EF5E6102600B             NaN\n",
       "651068  AD03525E-056C-4E36-81BC-EF5E850CCC83             NaN\n",
       "651069  9C2E1361-7F42-451A-8918-EF5ED3A2DC6E             NaN\n",
       "651070  A36DED0C-53B3-4BE6-A51E-EF5EEBAA1D66             NaN\n",
       "651071  88405390-77E2-4A38-A869-EF5F04D38AA2             NaN\n",
       "651072  DE984104-E4DB-421D-82DA-EF5F12BC3338             NaN\n",
       "651073  DDC11F8E-D4BF-4247-B895-EF5F5EACE3DD             NaN\n",
       "651074  D3641334-7B43-44A5-A34B-EF5F64D7779E             NaN\n",
       "651075  5E04EB9A-7E41-42E5-AB6D-EF5F696F1BBD             NaN\n",
       "651076  7EAD70CD-CADD-45D8-B24D-EF5F764E7A50             NaN\n",
       "651077  DB7641EE-7622-4D08-A74F-EF5F7F95A332             NaN\n",
       "651078  E9F515A2-4522-4246-9478-EF5F88BB4D70             NaN\n",
       "651079  07CF81B7-50A7-40E4-9DC4-EF5F8F96015A             NaN\n",
       "651080  282C401E-FA46-41E2-9E48-EF5FA3D9592B             NaN\n",
       "651081  AF47D3FC-0A98-49A3-97DC-EF5FB9A349C7             NaN\n",
       "651082  3981DAD5-8F88-4F7A-8351-EF5FBA9CE0C8             NaN\n",
       "651083  0CA654CB-05B8-484D-9F85-EF5FCA059B07             NaN\n",
       "\n",
       "[651084 rows x 2 columns]"
      ]
     },
     "execution_count": 27,
     "metadata": {},
     "output_type": "execute_result"
    }
   ],
   "source": [
    "last_day_revenue_query= \"\"\"  select \n",
    "\tu.Id UserId,\n",
    "\tSUM(cb.Price) TotalUSDIncome\n",
    "  from [GameDataDb].[dbo].[Users] u\n",
    "  left join [GameDataDb].[dbo].[CurrencyBuy] cb ON cb.UserId = u.Id AND cb.Date = '2018-01-30'\n",
    "  group by u.Id\n",
    "  order by TotalUSDIncome desc\"\"\"\n",
    "\n",
    "last_day_revenue = pd.read_sql_query(last_day_revenue_query, conn)\n",
    "last_day_revenue.head()"
   ]
  },
  {
   "cell_type": "code",
   "execution_count": 25,
   "metadata": {},
   "outputs": [
    {
     "data": {
      "text/html": [
       "<div>\n",
       "<style scoped>\n",
       "    .dataframe tbody tr th:only-of-type {\n",
       "        vertical-align: middle;\n",
       "    }\n",
       "\n",
       "    .dataframe tbody tr th {\n",
       "        vertical-align: top;\n",
       "    }\n",
       "\n",
       "    .dataframe thead th {\n",
       "        text-align: right;\n",
       "    }\n",
       "</style>\n",
       "<table border=\"1\" class=\"dataframe\">\n",
       "  <thead>\n",
       "    <tr style=\"text-align: right;\">\n",
       "      <th></th>\n",
       "      <th>Id</th>\n",
       "      <th>Date</th>\n",
       "      <th>UserId</th>\n",
       "      <th>Name</th>\n",
       "      <th>Price</th>\n",
       "      <th>Income</th>\n",
       "    </tr>\n",
       "  </thead>\n",
       "  <tbody>\n",
       "    <tr>\n",
       "      <th>0</th>\n",
       "      <td>EC7CF16E-5400-459B-9FDA-00000694E8BA</td>\n",
       "      <td>2018-01-24 00:00:00.0000000</td>\n",
       "      <td>B4EB3CD9-CB65-4812-8529-74D125D058FC</td>\n",
       "      <td>Gold</td>\n",
       "      <td>50.0</td>\n",
       "      <td>600</td>\n",
       "    </tr>\n",
       "    <tr>\n",
       "      <th>1</th>\n",
       "      <td>EBC87B37-65A9-4E04-B830-0000B39FAF82</td>\n",
       "      <td>2018-01-13 00:00:00.0000000</td>\n",
       "      <td>49196655-8542-4831-B454-ABF7168557BC</td>\n",
       "      <td>Bronze</td>\n",
       "      <td>10.0</td>\n",
       "      <td>110</td>\n",
       "    </tr>\n",
       "    <tr>\n",
       "      <th>2</th>\n",
       "      <td>DD96B2C5-2D54-4AA9-A66B-00010552A45B</td>\n",
       "      <td>2018-01-07 00:00:00.0000000</td>\n",
       "      <td>8A39CEBE-4CB4-43BC-A469-3B4BF413E434</td>\n",
       "      <td>Bronze</td>\n",
       "      <td>10.0</td>\n",
       "      <td>110</td>\n",
       "    </tr>\n",
       "    <tr>\n",
       "      <th>3</th>\n",
       "      <td>19AAD14B-F257-4DA8-A81C-00020C2FA57D</td>\n",
       "      <td>2018-01-23 00:00:00.0000000</td>\n",
       "      <td>26911F7B-BB20-40A5-9A04-298D0481C974</td>\n",
       "      <td>Iron</td>\n",
       "      <td>5.0</td>\n",
       "      <td>55</td>\n",
       "    </tr>\n",
       "    <tr>\n",
       "      <th>4</th>\n",
       "      <td>3BA6D69A-945E-4F04-824E-00025DB374D3</td>\n",
       "      <td>2018-01-05 00:00:00.0000000</td>\n",
       "      <td>D4FB00CF-C020-4320-B685-6FF4A6531E62</td>\n",
       "      <td>Gold</td>\n",
       "      <td>50.0</td>\n",
       "      <td>600</td>\n",
       "    </tr>\n",
       "  </tbody>\n",
       "</table>\n",
       "</div>"
      ],
      "text/plain": [
       "                                     Id                         Date  \\\n",
       "0  EC7CF16E-5400-459B-9FDA-00000694E8BA  2018-01-24 00:00:00.0000000   \n",
       "1  EBC87B37-65A9-4E04-B830-0000B39FAF82  2018-01-13 00:00:00.0000000   \n",
       "2  DD96B2C5-2D54-4AA9-A66B-00010552A45B  2018-01-07 00:00:00.0000000   \n",
       "3  19AAD14B-F257-4DA8-A81C-00020C2FA57D  2018-01-23 00:00:00.0000000   \n",
       "4  3BA6D69A-945E-4F04-824E-00025DB374D3  2018-01-05 00:00:00.0000000   \n",
       "\n",
       "                                 UserId    Name  Price  Income  \n",
       "0  B4EB3CD9-CB65-4812-8529-74D125D058FC    Gold   50.0     600  \n",
       "1  49196655-8542-4831-B454-ABF7168557BC  Bronze   10.0     110  \n",
       "2  8A39CEBE-4CB4-43BC-A469-3B4BF413E434  Bronze   10.0     110  \n",
       "3  26911F7B-BB20-40A5-9A04-298D0481C974    Iron    5.0      55  \n",
       "4  D4FB00CF-C020-4320-B685-6FF4A6531E62    Gold   50.0     600  "
      ]
     },
     "execution_count": 25,
     "metadata": {},
     "output_type": "execute_result"
    }
   ],
   "source": [
    "currency_buy = pd.read_sql_query(\"SELECT [Id] ,[Date] ,[UserId] ,[Name] ,[Price] ,[Income] FROM [GameDataDb].[dbo].[CurrencyBuy]\", conn)\n",
    "currency_buy.head()"
   ]
  },
  {
   "cell_type": "code",
   "execution_count": 4,
   "metadata": {
    "scrolled": true
   },
   "outputs": [
    {
     "data": {
      "text/html": [
       "<div>\n",
       "<style scoped>\n",
       "    .dataframe tbody tr th:only-of-type {\n",
       "        vertical-align: middle;\n",
       "    }\n",
       "\n",
       "    .dataframe tbody tr th {\n",
       "        vertical-align: top;\n",
       "    }\n",
       "\n",
       "    .dataframe thead th {\n",
       "        text-align: right;\n",
       "    }\n",
       "</style>\n",
       "<table border=\"1\" class=\"dataframe\">\n",
       "  <thead>\n",
       "    <tr style=\"text-align: right;\">\n",
       "      <th></th>\n",
       "      <th>Id</th>\n",
       "      <th>Date</th>\n",
       "      <th>Country</th>\n",
       "      <th>Gender</th>\n",
       "      <th>Age</th>\n",
       "    </tr>\n",
       "  </thead>\n",
       "  <tbody>\n",
       "    <tr>\n",
       "      <th>0</th>\n",
       "      <td>3B48BC3C-ABD1-4B87-B0C0-00001928BAA5</td>\n",
       "      <td>2018-01-07 00:00:00.0000000</td>\n",
       "      <td>Brazil</td>\n",
       "      <td>male</td>\n",
       "      <td>17</td>\n",
       "    </tr>\n",
       "    <tr>\n",
       "      <th>1</th>\n",
       "      <td>8B7B7BB6-8827-4784-BB0D-00003A11FD67</td>\n",
       "      <td>2018-01-19 00:00:00.0000000</td>\n",
       "      <td>Japan</td>\n",
       "      <td>female</td>\n",
       "      <td>45</td>\n",
       "    </tr>\n",
       "    <tr>\n",
       "      <th>2</th>\n",
       "      <td>20569147-5579-471B-B63F-00003F02E78B</td>\n",
       "      <td>2018-01-24 00:00:00.0000000</td>\n",
       "      <td>Chile</td>\n",
       "      <td>female</td>\n",
       "      <td>57</td>\n",
       "    </tr>\n",
       "    <tr>\n",
       "      <th>3</th>\n",
       "      <td>533FC85D-E88F-4E8D-9D05-00004D827E4E</td>\n",
       "      <td>2018-01-03 00:00:00.0000000</td>\n",
       "      <td>Guinea</td>\n",
       "      <td>female</td>\n",
       "      <td>25</td>\n",
       "    </tr>\n",
       "    <tr>\n",
       "      <th>4</th>\n",
       "      <td>01766165-B9A3-4D7C-B546-00005831CED3</td>\n",
       "      <td>2018-01-02 00:00:00.0000000</td>\n",
       "      <td>United States of America</td>\n",
       "      <td>female</td>\n",
       "      <td>50</td>\n",
       "    </tr>\n",
       "  </tbody>\n",
       "</table>\n",
       "</div>"
      ],
      "text/plain": [
       "                                     Id                         Date  \\\n",
       "0  3B48BC3C-ABD1-4B87-B0C0-00001928BAA5  2018-01-07 00:00:00.0000000   \n",
       "1  8B7B7BB6-8827-4784-BB0D-00003A11FD67  2018-01-19 00:00:00.0000000   \n",
       "2  20569147-5579-471B-B63F-00003F02E78B  2018-01-24 00:00:00.0000000   \n",
       "3  533FC85D-E88F-4E8D-9D05-00004D827E4E  2018-01-03 00:00:00.0000000   \n",
       "4  01766165-B9A3-4D7C-B546-00005831CED3  2018-01-02 00:00:00.0000000   \n",
       "\n",
       "                    Country  Gender  Age  \n",
       "0                    Brazil    male   17  \n",
       "1                     Japan  female   45  \n",
       "2                     Chile  female   57  \n",
       "3                    Guinea  female   25  \n",
       "4  United States of America  female   50  "
      ]
     },
     "execution_count": 4,
     "metadata": {},
     "output_type": "execute_result"
    }
   ],
   "source": [
    "select_users_query = \"SELECT [Id] ,[Date] ,[Country] ,[Gender] ,[Age] FROM [GameDataDb].[dbo].[Users]\"\n",
    "users = pd.read_sql_query(select_users_query, conn)\n",
    "users.head()"
   ]
  },
  {
   "cell_type": "markdown",
   "metadata": {},
   "source": [
    "select_game_start_query = \"SELECT [Id] ,[Date] ,[UserId] FROM [GameDataDb].[dbo].[GameStart]\"\n",
    "game_start = pd.read_sql_query(select_game_start_query, conn)\n",
    "game_start.head()"
   ]
  },
  {
   "cell_type": "code",
   "execution_count": 14,
   "metadata": {},
   "outputs": [
    {
     "data": {
      "text/html": [
       "<div>\n",
       "<style scoped>\n",
       "    .dataframe tbody tr th:only-of-type {\n",
       "        vertical-align: middle;\n",
       "    }\n",
       "\n",
       "    .dataframe tbody tr th {\n",
       "        vertical-align: top;\n",
       "    }\n",
       "\n",
       "    .dataframe thead th {\n",
       "        text-align: right;\n",
       "    }\n",
       "</style>\n",
       "<table border=\"1\" class=\"dataframe\">\n",
       "  <thead>\n",
       "    <tr style=\"text-align: right;\">\n",
       "      <th></th>\n",
       "      <th>Id</th>\n",
       "      <th>Date</th>\n",
       "      <th>UserId</th>\n",
       "      <th>Item</th>\n",
       "      <th>Price</th>\n",
       "    </tr>\n",
       "  </thead>\n",
       "  <tbody>\n",
       "    <tr>\n",
       "      <th>0</th>\n",
       "      <td>5DC4556F-FC68-459E-81B2-00001282DB50</td>\n",
       "      <td>2018-01-25 00:00:00.0000000</td>\n",
       "      <td>B6E225B9-9B70-4463-90C0-20BBEA7319DD</td>\n",
       "      <td>Sacrificial Altar</td>\n",
       "      <td>600.0</td>\n",
       "    </tr>\n",
       "    <tr>\n",
       "      <th>1</th>\n",
       "      <td>E6A3ADF3-D2A7-4D13-93D5-00001B9661B9</td>\n",
       "      <td>2018-01-23 00:00:00.0000000</td>\n",
       "      <td>8A5369AA-DD76-4D5D-A4C4-EF9E8746FAAF</td>\n",
       "      <td>Plan C</td>\n",
       "      <td>550.0</td>\n",
       "    </tr>\n",
       "    <tr>\n",
       "      <th>2</th>\n",
       "      <td>58CF16F5-10B1-4693-9A88-00001F4BB049</td>\n",
       "      <td>2018-01-18 00:00:00.0000000</td>\n",
       "      <td>49522DFF-9706-42A1-B07F-D024D5D47B84</td>\n",
       "      <td>Monstros Tooth</td>\n",
       "      <td>10.0</td>\n",
       "    </tr>\n",
       "    <tr>\n",
       "      <th>3</th>\n",
       "      <td>C1C849A1-9A50-48F2-8FD2-00002BFBB43A</td>\n",
       "      <td>2018-01-29 00:00:00.0000000</td>\n",
       "      <td>50A53746-3954-4A15-9E81-8CFD01C927E5</td>\n",
       "      <td>Remote Detonator</td>\n",
       "      <td>170.0</td>\n",
       "    </tr>\n",
       "    <tr>\n",
       "      <th>4</th>\n",
       "      <td>F886D293-E7CB-4F0C-A179-0000448BE558</td>\n",
       "      <td>2018-01-23 00:00:00.0000000</td>\n",
       "      <td>F3935C38-18A8-4938-B023-B887254E830C</td>\n",
       "      <td>The Nail</td>\n",
       "      <td>540.0</td>\n",
       "    </tr>\n",
       "  </tbody>\n",
       "</table>\n",
       "</div>"
      ],
      "text/plain": [
       "                                     Id                         Date  \\\n",
       "0  5DC4556F-FC68-459E-81B2-00001282DB50  2018-01-25 00:00:00.0000000   \n",
       "1  E6A3ADF3-D2A7-4D13-93D5-00001B9661B9  2018-01-23 00:00:00.0000000   \n",
       "2  58CF16F5-10B1-4693-9A88-00001F4BB049  2018-01-18 00:00:00.0000000   \n",
       "3  C1C849A1-9A50-48F2-8FD2-00002BFBB43A  2018-01-29 00:00:00.0000000   \n",
       "4  F886D293-E7CB-4F0C-A179-0000448BE558  2018-01-23 00:00:00.0000000   \n",
       "\n",
       "                                 UserId               Item  Price  \n",
       "0  B6E225B9-9B70-4463-90C0-20BBEA7319DD  Sacrificial Altar  600.0  \n",
       "1  8A5369AA-DD76-4D5D-A4C4-EF9E8746FAAF             Plan C  550.0  \n",
       "2  49522DFF-9706-42A1-B07F-D024D5D47B84     Monstros Tooth   10.0  \n",
       "3  50A53746-3954-4A15-9E81-8CFD01C927E5   Remote Detonator  170.0  \n",
       "4  F3935C38-18A8-4938-B023-B887254E830C           The Nail  540.0  "
      ]
     },
     "execution_count": 14,
     "metadata": {},
     "output_type": "execute_result"
    }
   ],
   "source": [
    "select_itembuy_query = \"SELECT[Id] ,[Date] ,[UserId] ,[Item] ,[Price] FROM [GameDataDb].[dbo].[ItemBuy]\"\n",
    "item_buy = pd.read_sql_query(select_itembuy_query, conn)\n",
    "item_buy.head()"
   ]
  },
  {
   "cell_type": "markdown",
   "metadata": {},
   "source": [
    "select_stageend_query = \"SELECT [Id] ,[Date] ,[UserId] ,[Stage] ,[Time] ,[Win] ,[Income] FROM [GameDataDb].[dbo].[StageEnd]\"\n",
    "stage_end = pd.read_sql_query(select_stageend_query, conn)\n",
    "stage_end.head()"
   ]
  },
  {
   "cell_type": "markdown",
   "metadata": {},
   "source": [
    "select_stagestart_query = \"SELECT [Id] ,[Date] ,[UserId] ,[Stage] FROM [GameDataDb].[dbo].[StageStart]\"\n",
    "stage_start = pd.read_sql_query(select_stagestart_query, conn)\n",
    "stage_start.head()"
   ]
  },
  {
   "cell_type": "markdown",
   "metadata": {},
   "source": [
    "# Segmenation"
   ]
  },
  {
   "cell_type": "code",
   "execution_count": 29,
   "metadata": {},
   "outputs": [],
   "source": [
    "from sklearn.cluster import KMeans\n",
    "def doKmeans(X, nclust=2):\n",
    "    vecotrizedX = list(map(lambda x: [x], X))\n",
    "    model = KMeans(nclust)\n",
    "    model.fit(vecotrizedX)\n",
    "    clust_labels = model.predict(vecotrizedX)\n",
    "    cent = model.cluster_centers_\n",
    "    \n",
    "    plt.scatter(vecotrizedX, np.zeros(len(vecotrizedX)), c=clust_labels)\n",
    "    \n",
    "    return (clust_labels, cent)"
   ]
  },
  {
   "cell_type": "markdown",
   "metadata": {},
   "source": [
    "## User age distribution"
   ]
  },
  {
   "cell_type": "code",
   "execution_count": 5,
   "metadata": {
    "scrolled": true
   },
   "outputs": [
    {
     "data": {
      "text/plain": [
       "<matplotlib.axes._subplots.AxesSubplot at 0x29077000748>"
      ]
     },
     "execution_count": 5,
     "metadata": {},
     "output_type": "execute_result"
    },
    {
     "data": {
      "image/png": "[encoded data removed]",
      "text/plain": [
       "<Figure size 432x288 with 1 Axes>"
      ]
     },
     "metadata": {
      "needs_background": "light"
     },
     "output_type": "display_data"
    }
   ],
   "source": [
    "sns.distplot(users.Age)"
   ]
  },
  {
   "cell_type": "code",
   "execution_count": 6,
   "metadata": {},
   "outputs": [
    {
     "data": {
      "text/plain": [
       "<matplotlib.axes._subplots.AxesSubplot at 0x2906706d780>"
      ]
     },
     "execution_count": 6,
     "metadata": {},
     "output_type": "execute_result"
    },
    {
     "data": {
      "image/png": "[encoded data removed]",
      "text/plain": [
       "<Figure size 432x288 with 1 Axes>"
      ]
     },
     "metadata": {
      "needs_background": "light"
     },
     "output_type": "display_data"
    }
   ],
   "source": [
    "users.Gender.value_counts().plot(kind='bar')"
   ]
  },
  {
   "cell_type": "code",
   "execution_count": 12,
   "metadata": {
    "scrolled": true
   },
   "outputs": [
    {
     "data": {
      "text/plain": [
       "<matplotlib.axes._subplots.AxesSubplot at 0x290744440f0>"
      ]
     },
     "execution_count": 12,
     "metadata": {},
     "output_type": "execute_result"
    },
    {
     "data": {
      "image/png": "[encoded data removed]",
      "text/plain": [
       "<Figure size 432x288 with 1 Axes>"
      ]
     },
     "metadata": {
      "needs_background": "light"
     },
     "output_type": "display_data"
    }
   ],
   "source": [
    "users.Country.value_counts()[:10].plot(kind='bar')"
   ]
  },
  {
   "cell_type": "markdown",
   "metadata": {},
   "source": [
    "## Last day revenue"
   ]
  },
  {
   "cell_type": "code",
   "execution_count": null,
   "metadata": {},
   "outputs": [],
   "source": []
  },
  {
   "cell_type": "code",
   "execution_count": 28,
   "metadata": {},
   "outputs": [
    {
     "data": {
      "text/html": [
       "<div>\n",
       "<style scoped>\n",
       "    .dataframe tbody tr th:only-of-type {\n",
       "        vertical-align: middle;\n",
       "    }\n",
       "\n",
       "    .dataframe tbody tr th {\n",
       "        vertical-align: top;\n",
       "    }\n",
       "\n",
       "    .dataframe thead th {\n",
       "        text-align: right;\n",
       "    }\n",
       "</style>\n",
       "<table border=\"1\" class=\"dataframe\">\n",
       "  <thead>\n",
       "    <tr style=\"text-align: right;\">\n",
       "      <th></th>\n",
       "      <th>TotalUSDIncome</th>\n",
       "    </tr>\n",
       "  </thead>\n",
       "  <tbody>\n",
       "    <tr>\n",
       "      <th>count</th>\n",
       "      <td>8706.000000</td>\n",
       "    </tr>\n",
       "    <tr>\n",
       "      <th>mean</th>\n",
       "      <td>18.100620</td>\n",
       "    </tr>\n",
       "    <tr>\n",
       "      <th>std</th>\n",
       "      <td>17.871248</td>\n",
       "    </tr>\n",
       "    <tr>\n",
       "      <th>min</th>\n",
       "      <td>1.000000</td>\n",
       "    </tr>\n",
       "    <tr>\n",
       "      <th>25%</th>\n",
       "      <td>5.000000</td>\n",
       "    </tr>\n",
       "    <tr>\n",
       "      <th>50%</th>\n",
       "      <td>10.000000</td>\n",
       "    </tr>\n",
       "    <tr>\n",
       "      <th>75%</th>\n",
       "      <td>25.000000</td>\n",
       "    </tr>\n",
       "    <tr>\n",
       "      <th>max</th>\n",
       "      <td>50.000000</td>\n",
       "    </tr>\n",
       "  </tbody>\n",
       "</table>\n",
       "</div>"
      ],
      "text/plain": [
       "       TotalUSDIncome\n",
       "count     8706.000000\n",
       "mean        18.100620\n",
       "std         17.871248\n",
       "min          1.000000\n",
       "25%          5.000000\n",
       "50%         10.000000\n",
       "75%         25.000000\n",
       "max         50.000000"
      ]
     },
     "execution_count": 28,
     "metadata": {},
     "output_type": "execute_result"
    }
   ],
   "source": [
    "last_day_revenue.describe()"
   ]
  },
  {
   "cell_type": "code",
   "execution_count": 39,
   "metadata": {},
   "outputs": [],
   "source": [
    "last_day_income_X = list(map(lambda x: [x], last_day_revenue.TotalUSDIncome.dropna()))"
   ]
  },
  {
   "cell_type": "code",
   "execution_count": 40,
   "metadata": {},
   "outputs": [
    {
     "data": {
      "text/plain": [
       "KMeans(algorithm='auto', copy_x=True, init='k-means++', max_iter=300,\n",
       "    n_clusters=3, n_init=10, n_jobs=None, precompute_distances='auto',\n",
       "    random_state=None, tol=0.0001, verbose=0)"
      ]
     },
     "execution_count": 40,
     "metadata": {},
     "output_type": "execute_result"
    }
   ],
   "source": [
    "kmeans = KMeans(3)\n",
    "kmeans.fit(last_day_income_X)"
   ]
  },
  {
   "cell_type": "code",
   "execution_count": 41,
   "metadata": {},
   "outputs": [
    {
     "data": {
      "text/plain": [
       "array([[ 5.35072079],\n",
       "       [50.        ],\n",
       "       [25.        ]])"
      ]
     },
     "execution_count": 41,
     "metadata": {},
     "output_type": "execute_result"
    }
   ],
   "source": [
    "clust_labels = kmeans.predict(last_day_income_X)\n",
    "cent = kmeans.cluster_centers_"
   ]
  },
  {
   "cell_type": "code",
   "execution_count": 45,
   "metadata": {
    "scrolled": false
   },
   "outputs": [
    {
     "data": {
      "text/plain": [
       "<matplotlib.axes._subplots.AxesSubplot at 0x2907ad88b38>"
      ]
     },
     "execution_count": 45,
     "metadata": {},
     "output_type": "execute_result"
    },
    {
     "data": {
      "image/png": "[encoded data removed]",
      "text/plain": [
       "<Figure size 432x288 with 1 Axes>"
      ]
     },
     "metadata": {
      "needs_background": "light"
     },
     "output_type": "display_data"
    }
   ],
   "source": [
    "pd.Series(clust_labels).value_counts().plot(kind='bar')"
   ]
  },
  {
   "cell_type": "code",
   "execution_count": 52,
   "metadata": {},
   "outputs": [
    {
     "data": {
      "text/plain": [
       "<matplotlib.collections.PathCollection at 0x2901367d860>"
      ]
     },
     "execution_count": 52,
     "metadata": {},
     "output_type": "execute_result"
    },
    {
     "data": {
      "image/png": "[encoded data removed]",
      "text/plain": [
       "<Figure size 432x288 with 1 Axes>"
      ]
     },
     "metadata": {
      "needs_background": "light"
     },
     "output_type": "display_data"
    }
   ],
   "source": [
    "plt.scatter(last_day_income_X, np.zeros(len(last_day_income_X)), c=clust_labels)"
   ]
  },
  {
   "cell_type": "code",
   "execution_count": 61,
   "metadata": {},
   "outputs": [
    {
     "data": {
      "text/html": [
       "<div>\n",
       "<style scoped>\n",
       "    .dataframe tbody tr th:only-of-type {\n",
       "        vertical-align: middle;\n",
       "    }\n",
       "\n",
       "    .dataframe tbody tr th {\n",
       "        vertical-align: top;\n",
       "    }\n",
       "\n",
       "    .dataframe thead th {\n",
       "        text-align: right;\n",
       "    }\n",
       "</style>\n",
       "<table border=\"1\" class=\"dataframe\">\n",
       "  <thead>\n",
       "    <tr style=\"text-align: right;\">\n",
       "      <th></th>\n",
       "      <th>UserId</th>\n",
       "      <th>IsCheater</th>\n",
       "    </tr>\n",
       "  </thead>\n",
       "  <tbody>\n",
       "    <tr>\n",
       "      <th>0</th>\n",
       "      <td>0BE924E3-0433-4421-A385-00023F17D14D</td>\n",
       "      <td>0</td>\n",
       "    </tr>\n",
       "    <tr>\n",
       "      <th>1</th>\n",
       "      <td>CEADE4F3-43BA-426E-A482-00050373606B</td>\n",
       "      <td>0</td>\n",
       "    </tr>\n",
       "    <tr>\n",
       "      <th>2</th>\n",
       "      <td>1937C5D2-0B57-4A28-BD1A-0005A785AD2A</td>\n",
       "      <td>0</td>\n",
       "    </tr>\n",
       "    <tr>\n",
       "      <th>3</th>\n",
       "      <td>5F1AFEFC-3455-4855-A9A8-00067BAE0033</td>\n",
       "      <td>0</td>\n",
       "    </tr>\n",
       "    <tr>\n",
       "      <th>4</th>\n",
       "      <td>66BADD6E-64C4-440B-8539-000B212B42E6</td>\n",
       "      <td>1</td>\n",
       "    </tr>\n",
       "  </tbody>\n",
       "</table>\n",
       "</div>"
      ],
      "text/plain": [
       "                                 UserId  IsCheater\n",
       "0  0BE924E3-0433-4421-A385-00023F17D14D          0\n",
       "1  CEADE4F3-43BA-426E-A482-00050373606B          0\n",
       "2  1937C5D2-0B57-4A28-BD1A-0005A785AD2A          0\n",
       "3  5F1AFEFC-3455-4855-A9A8-00067BAE0033          0\n",
       "4  66BADD6E-64C4-440B-8539-000B212B42E6          1"
      ]
     },
     "execution_count": 61,
     "metadata": {},
     "output_type": "execute_result"
    }
   ],
   "source": [
    "cheaters_query = \"\"\"select \n",
    "\tu.Id UserId,\n",
    "\tIIF(SUM(ib.Price) > SUM(cb.Income), 1, 0) IsCheater\n",
    "from Users u\n",
    "inner join CurrencyBuy cb on cb.UserId = u.Id\n",
    "inner join ItemBuy ib on ib.UserId = u.Id\n",
    "group by u.Id\"\"\"\n",
    "cheaters = pd.read_sql_query(cheaters_query, conn)\n",
    "cheaters.head()"
   ]
  },
  {
   "cell_type": "code",
   "execution_count": 63,
   "metadata": {},
   "outputs": [
    {
     "data": {
      "text/plain": [
       "<matplotlib.axes._subplots.AxesSubplot at 0x29016673080>"
      ]
     },
     "execution_count": 63,
     "metadata": {},
     "output_type": "execute_result"
    },
    {
     "data": {
      "image/png": "[encoded data removed]",
      "text/plain": [
       "<Figure size 432x288 with 1 Axes>"
      ]
     },
     "metadata": {
      "needs_background": "light"
     },
     "output_type": "display_data"
    }
   ],
   "source": [
    "cheaters.IsCheater.value_counts().plot(kind='bar')"
   ]
  },
  {
   "cell_type": "code",
   "execution_count": null,
   "metadata": {},
   "outputs": [],
   "source": []
  },
  {
   "cell_type": "code",
   "execution_count": 102,
   "metadata": {},
   "outputs": [
    {
     "data": {
      "text/plain": [
       "'2018-01-30 00:00:00.0000000'"
      ]
     },
     "execution_count": 102,
     "metadata": {},
     "output_type": "execute_result"
    }
   ],
   "source": [
    "last_day = currency_buy.Date.max()\n",
    "last_day"
   ]
  },
  {
   "cell_type": "code",
   "execution_count": 85,
   "metadata": {},
   "outputs": [
    {
     "data": {
      "text/plain": [
       "Id\n",
       "00033953-483F-427B-9BC5-C4CEB94C9BAA    275\n",
       "00119276-7BC1-45FC-B64E-82A0B9993289    600\n",
       "0016FDAE-572D-4D76-9D90-98823650CFAC    110\n",
       "002051A2-A6EA-49D8-999F-83C1EF03DE27     10\n",
       "002EF9A3-6DEC-487A-B852-8A1133343AD0    110\n",
       "Name: Income, dtype: int64"
      ]
     },
     "execution_count": 85,
     "metadata": {},
     "output_type": "execute_result"
    }
   ],
   "source": [
    "last_day_buys = currency_buy[currency_buy.Date == last_day].groupby(['UserId'])['Income'].sum()\n",
    "last_day_buys.index.name = 'Id'\n",
    "last_day_buys.head()"
   ]
  },
  {
   "cell_type": "code",
   "execution_count": 88,
   "metadata": {},
   "outputs": [],
   "source": [
    "users = users.merge(last_day_buys, on='Id')"
   ]
  },
  {
   "cell_type": "code",
   "execution_count": 98,
   "metadata": {},
   "outputs": [
    {
     "data": {
      "text/plain": [
       "(array([1, 1, 1, ..., 1, 3, 1]), array([[275.        ],\n",
       "        [ 32.80085349],\n",
       "        [600.        ],\n",
       "        [110.        ]]))"
      ]
     },
     "execution_count": 98,
     "metadata": {},
     "output_type": "execute_result"
    },
    {
     "data": {
      "image/png": "[encoded data removed]",
      "text/plain": [
       "<Figure size 432x288 with 1 Axes>"
      ]
     },
     "metadata": {
      "needs_background": "light"
     },
     "output_type": "display_data"
    }
   ],
   "source": [
    "doKmeans(users.Income, 4)"
   ]
  },
  {
   "cell_type": "code",
   "execution_count": null,
   "metadata": {},
   "outputs": [],
   "source": []
  },
  {
   "cell_type": "code",
   "execution_count": null,
   "metadata": {},
   "outputs": [],
   "source": []
  },
  {
   "cell_type": "code",
   "execution_count": null,
   "metadata": {},
   "outputs": [],
   "source": []
  }
 ],
 "metadata": {
  "kernelspec": {
   "display_name": "Python 3",
   "language": "python",
   "name": "python3"
  },
  "language_info": {
   "codemirror_mode": {
    "name": "ipython",
    "version": 3
   },
   "file_extension": ".py",
   "mimetype": "text/x-python",
   "name": "python",
   "nbconvert_exporter": "python",
   "pygments_lexer": "ipython3",
   "version": "3.7.3"
  }
 },
 "nbformat": 4,
 "nbformat_minor": 2
}
